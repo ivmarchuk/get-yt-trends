{
  "nbformat": 4,
  "nbformat_minor": 0,
  "metadata": {
    "colab": {
      "name": "youtube-project-ET.ipynb",
      "provenance": [],
      "mount_file_id": "1GwLb03N1n-dh8T6STL3DnB6SHIcn9Zl3",
      "authorship_tag": "ABX9TyPUYasGTAlO6F6L7WU7Kw2X",
      "include_colab_link": true
    },
    "kernelspec": {
      "name": "python3",
      "display_name": "Python 3"
    },
    "language_info": {
      "name": "python"
    }
  },
  "cells": [
    {
      "cell_type": "markdown",
      "metadata": {
        "id": "view-in-github",
        "colab_type": "text"
      },
      "source": [
        "<a href=\"https://colab.research.google.com/github/ivmarchuk/get-yt-trends/blob/main/youtube-ET.ipynb\" target=\"_parent\"><img src=\"https://colab.research.google.com/assets/colab-badge.svg\" alt=\"Open In Colab\"/></a>"
      ]
    },
    {
      "cell_type": "code",
      "execution_count": null,
      "metadata": {
        "id": "bFsJifHMaIBG"
      },
      "outputs": [],
      "source": [
        "import requests\n",
        "import pandas as pd\n",
        "import time, datetime\n",
        "from datetime import datetime\n",
        "import os\n",
        "import configparser"
      ]
    },
    {
      "cell_type": "code",
      "source": [
        "# country_codes = ['US','GB','RU','PL','DE']\n",
        "today = datetime.now()\n",
        "today.strftime('%Y-%m-%d')\n",
        "today\n",
        "print(today)"
      ],
      "metadata": {
        "id": "vTLLsgjGR7-3",
        "colab": {
          "base_uri": "https://localhost:8080/"
        },
        "outputId": "a6d3f56d-a558-486b-ef28-1ff779356a4b"
      },
      "execution_count": null,
      "outputs": [
        {
          "output_type": "stream",
          "name": "stdout",
          "text": [
            "2022-07-25 10:35:19.833652\n"
          ]
        }
      ]
    },
    {
      "cell_type": "code",
      "source": [
        "video_list = ['rolT_uwCJuo','EZK6ELyGxr4','Kuqcl5rso7U','nQDgVjd6yyI','47ynjeFgZMs','TlH5nhv6v6w','m4c4tNg6wzo','4KW7FekWWVU']"
      ],
      "metadata": {
        "id": "Ioh1BqWCfkaL"
      },
      "execution_count": null,
      "outputs": []
    },
    {
      "cell_type": "code",
      "source": [
        "def get_dislikes(df, df_dis, video_id: str):\n",
        "  try:\n",
        "    url = 'https://returnyoutubedislikeapi.com/votes?videoId='+video_id\n",
        "  except Exception as e:\n",
        "    print('Something went wrong with loading dislikes data: ', e)\n",
        "        \n",
        "  dis_req = requests.get(url).json()\n",
        "  for dis in dis_req:\n",
        "    dislike_count = dis_req['dislikes']\n",
        "    rating = dis_req['rating'] \n",
        "    append_features = {'video_id': video_id,\n",
        "                              'dislike_count': dislike_count,\n",
        "                              'rating': rating}\n",
        "    df_dis = df_dis.append(append_features, ignore_index = True)\n",
        "      \n",
        "\n",
        "  return df_dis\n",
        "\n",
        "\n",
        "for video_id in video_list: \n",
        "  df_dis.append(get_dislikes(df=df,df_dis=df_dis,video_id=video_id))"
      ],
      "metadata": {
        "id": "XUkPwxY7Rl-I"
      },
      "execution_count": null,
      "outputs": []
    },
    {
      "cell_type": "code",
      "source": [
        "def get_categories(df_cat, API_KEY):\n",
        "    try: \n",
        "        url = 'https://www.googleapis.com/youtube/v3/videoCategories?part=snippet&regionCode=PL&key='+API_KEY\n",
        "    except Exception as e:\n",
        "        print('Something went wrong with loading categories data: ', e)\n",
        "    finally:\n",
        "        print('Loading categories finished: ')\n",
        "\n",
        "    cat_req = requests.get(url).json()\n",
        "    for item in cat_req['items']: \n",
        "        category_id = item['id']\n",
        "        category_name = item['snippet']['title']\n",
        "\n",
        "        append_features = {\"category_id\" : category_id,\n",
        "                        'category_name' : category_name}\n",
        "\n",
        "        df_cat = df_cat.append(append_features,  ignore_index = True)\n",
        "    \n",
        "    return df_cat"
      ],
      "metadata": {
        "id": "XmMTQxiIRsXq"
      },
      "execution_count": null,
      "outputs": []
    },
    {
      "cell_type": "code",
      "source": [
        "def merge_datasets(df, df_dis, df_cat):\n",
        "  df_n = pd.merge(df, df_dis, on = 'video_id')\n",
        "  df_merged = pd.merge(df_n, df_cat, on = 'category_id')\n",
        "\n",
        "  # add columns for future data validation check\n",
        "  df_merged['likes_availability'] = True\n",
        "  print('Merging datasets finished', today)\n",
        "\n",
        "  # TBA instead of nulls\n",
        "  df_merged = df_merged.fillna('TBA')\n",
        "  return df_merged\n"
      ],
      "metadata": {
        "id": "4MR-d7_JU3A0"
      },
      "execution_count": null,
      "outputs": []
    },
    {
      "cell_type": "code",
      "source": [
        "# df to csv\n",
        "def df_to_csv(df): \n",
        "  file_csv = '/SAMPLE/dataset.csv'\n",
        "  df.to_csv(file_csv, sep=';', encoding='utf-8')\n",
        "\n",
        "  return file_csv"
      ],
      "metadata": {
        "id": "uWK9SuNHQ1Cy"
      },
      "execution_count": null,
      "outputs": []
    }
  ]
}